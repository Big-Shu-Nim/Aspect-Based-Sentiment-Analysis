{
 "cells": [
  {
   "cell_type": "code",
   "execution_count": 38,
   "metadata": {},
   "outputs": [],
   "source": [
    "import itertools\n",
    "from xml.etree import ElementTree\n",
    "import csv\n",
    "\n",
    "tree = ElementTree.parse('F:/Monica/KCIS/SET5-Rest-ST1/ABSA16_Restaurants_Train_SB1_v2.xml')\n",
    "reviews_data = tree.getroot()\n"
   ]
  },
  {
   "cell_type": "code",
   "execution_count": 41,
   "metadata": {},
   "outputs": [],
   "source": [
    "\n",
    "reviews=[]\n",
    "data = open('SemEval16T6_Restaurants_ST12.csv','w',encoding='utf-8')\n",
    "\n",
    "# create the csv writer object\n",
    "\n",
    "csvwriter = csv.writer(data)\n",
    "count = 0\n",
    "\n",
    "\n",
    "for review in reviews_data:\n",
    "    if count == 0:\n",
    "        reviews.append('RID')\n",
    "        reviews.append('SID')\n",
    "        reviews.append('text')\n",
    "        reviews.append('polarity')\n",
    "        reviews.append('category')\n",
    "        reviews.append('target')\n",
    "        csvwriter.writerow(reviews)\n",
    "        reviews = []\n",
    "        count=1\n",
    "    \n",
    "    sentences = review.find('sentences')\n",
    "    \n",
    "    RID = review.attrib['rid']\n",
    "    for sentence in sentences:\n",
    "        opinions = sentence.find('Opinions')\n",
    "        reviews.append(RID)\n",
    "#         if sentence!=None:\n",
    "        SID = sentence.attrib['id']\n",
    "        reviews.append(SID)\n",
    "        text = sentence.find('text').text\n",
    "        reviews.append(text)\n",
    "    #     else:\n",
    "    #         SID = 'NULL'\n",
    "    #         reviews.append(SID)\n",
    "    #         text = 'NULL'\n",
    "    #         reviews.append(text)\n",
    "        if opinions!=None:\n",
    "            for opinion in opinions:\n",
    "#                 if opinion!=None:\n",
    "                polarity = opinion.attrib['polarity']\n",
    "                reviews.append(polarity)\n",
    "                category = opinion.attrib['category']\n",
    "                reviews.append(category)\n",
    "                target = opinion.attrib['target']\n",
    "                reviews.append(target)\n",
    "    #             else:\n",
    "    #                 polarity=\"NULL\"\n",
    "    #                 category=\"NULL\"\n",
    "    #                 reviews.append(polarity)\n",
    "    #                 reviews.append(category)\n",
    "\n",
    "                csvwriter.writerow(reviews)\n",
    "                reviews.remove(polarity)\n",
    "                reviews.remove(category)\n",
    "                reviews.remove(target)\n",
    "        #csvwriter.writerow(reviews)\n",
    "        reviews = []\n",
    "data.close()"
   ]
  }
 ],
 "metadata": {
  "kernelspec": {
   "display_name": "Python 3",
   "language": "python",
   "name": "python3"
  },
  "language_info": {
   "codemirror_mode": {
    "name": "ipython",
    "version": 3
   },
   "file_extension": ".py",
   "mimetype": "text/x-python",
   "name": "python",
   "nbconvert_exporter": "python",
   "pygments_lexer": "ipython3",
   "version": "3.6.5"
  }
 },
 "nbformat": 4,
 "nbformat_minor": 2
}
